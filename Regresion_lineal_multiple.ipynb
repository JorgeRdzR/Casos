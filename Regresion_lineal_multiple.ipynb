{
  "nbformat": 4,
  "nbformat_minor": 0,
  "metadata": {
    "colab": {
      "name": "Regresion lineal multiple.ipynb",
      "provenance": [],
      "collapsed_sections": [],
      "authorship_tag": "ABX9TyOfxwKFTdy4PSptxch2UDaa",
      "include_colab_link": true
    },
    "kernelspec": {
      "name": "python3",
      "display_name": "Python 3"
    },
    "language_info": {
      "name": "python"
    }
  },
  "cells": [
    {
      "cell_type": "markdown",
      "metadata": {
        "id": "view-in-github",
        "colab_type": "text"
      },
      "source": [
        "<a href=\"https://colab.research.google.com/github/JorgeRdzR/Casos/blob/main/Regresion_lineal_multiple.ipynb\" target=\"_parent\"><img src=\"https://colab.research.google.com/assets/colab-badge.svg\" alt=\"Open In Colab\"/></a>"
      ]
    },
    {
      "cell_type": "markdown",
      "metadata": {
        "id": "fJevwDljRjzv"
      },
      "source": [
        "Caso 8. Regresión Lineal Múltiple\n",
        "\n",
        "Jorge Rodríguez Reyes\n",
        "\n",
        "Octubre 2021"
      ]
    },
    {
      "cell_type": "markdown",
      "metadata": {
        "id": "BVrOUoSeRn8G"
      },
      "source": [
        "# Objetivo\n",
        "\n",
        "Construir e interpretar modelos de regresión lineal multiple\n"
      ]
    },
    {
      "cell_type": "markdown",
      "metadata": {
        "id": "PbI3wJAURzL9"
      },
      "source": [
        "# Descripción\n",
        "\n",
        "Se cargan librerías necesarias\n",
        "Se cargan o generan los datos\n",
        "Se fragmentan los datos en datos de entrenamiento y validación\n",
        "Se contruye el modelo de regresión lineal múñtile\n",
        "Se interpretan los estadíticos del modelo R Square Adjusted y los coeficientes de la acuación \n",
        "\n",
        "$$\n",
        "y = a + \\beta_0 \\cdot{x_1} + \\beta_1\\cdot{x_2} + \\beta_2\\cdot{x_3} + ... + \\beta_k \\cdot {x_k} + \\epsilon\n",
        "$$ \n",
        "\n",
        "# Marco conceptual\n",
        "\n",
        "En la mayoría de los problemas de investigación en los que se aplica el análisis de regresión se necesita más de una variable independiente para el modelo de regresión. \n",
        "\n",
        "La complejidad de la mayoría de mecanismos científicos es tal que, con el fin de predecir una respuesta importante, se requiere un modelo de regresión múltiple. Cuando un modelo es lineal en los coeficientes se denomina modelo de regresión lineal múltiple.\n",
        "\n",
        "Para el caso de k variables independientes, el modelo que da x1,x2,...,xk, y y como la variable dependiente.x1,x2,...,xk son las variables que afectan a la variable dependiente en el modelo de regresión lineal múltiple. \n",
        "\n",
        "Muchos problemas de investigación y de la industria, requieren la estimación de las relaciones existentes entre el patrón de variabilidad de una variable aleatoria y los valores de una o más variables aleatorias. \n",
        "\n",
        "Al generar un modelo de regresión linel múltiple es importante identificar los estadísticos de R2 R Square, que se denomina coeficiente de determinación y es una medida de la proporción de la variabilidad explicada por el modelo ajustado. \n",
        "\n",
        "De igual forma, el valor de R2 ajustado o coeficiente de determinación ajustado, es una variación de R2 que proporciona un ajuste para los grados de libertad. R Square ajustado está diseñado para proporcionar un estadístico que castigue un modelo sobreajustado, de manera que se puede esperar que favorezca al modelo.\n",
        "\n",
        "Una variable Y puede predecirse conforme y de cuerdo con\n",
        "\n",
        "$$\n",
        "y = a + \\beta_0 \\cdot{x_1} + \\beta_1\\cdot{x_2} + \\beta_2\\cdot{x_3} + ... + \\beta_k \\cdot {x_k} + \\epsilon\n",
        "$$ \n",
        "\n"
      ]
    },
    {
      "cell_type": "markdown",
      "metadata": {
        "id": "3ZhHe3BuR4N0"
      },
      "source": [
        "## Cargar librerias y los datos"
      ]
    },
    {
      "cell_type": "code",
      "metadata": {
        "colab": {
          "base_uri": "https://localhost:8080/",
          "height": 204
        },
        "id": "ZAZ7Fu_4RhwY",
        "outputId": "c8b83f58-54d1-469d-84b6-55b1e419d6fc"
      },
      "source": [
        "import numpy as np\n",
        "import pandas as pd\n",
        "\n",
        "housing = pd.read_csv(\"https://raw.githubusercontent.com/JorgeRdzR/Casos/main/Housing.csv\")\n",
        "housing.head()"
      ],
      "execution_count": null,
      "outputs": [
        {
          "output_type": "execute_result",
          "data": {
            "text/html": [
              "<div>\n",
              "<style scoped>\n",
              "    .dataframe tbody tr th:only-of-type {\n",
              "        vertical-align: middle;\n",
              "    }\n",
              "\n",
              "    .dataframe tbody tr th {\n",
              "        vertical-align: top;\n",
              "    }\n",
              "\n",
              "    .dataframe thead th {\n",
              "        text-align: right;\n",
              "    }\n",
              "</style>\n",
              "<table border=\"1\" class=\"dataframe\">\n",
              "  <thead>\n",
              "    <tr style=\"text-align: right;\">\n",
              "      <th></th>\n",
              "      <th>price</th>\n",
              "      <th>area</th>\n",
              "      <th>bedrooms</th>\n",
              "      <th>bathrooms</th>\n",
              "      <th>stories</th>\n",
              "      <th>mainroad</th>\n",
              "      <th>guestroom</th>\n",
              "      <th>basement</th>\n",
              "      <th>hotwaterheating</th>\n",
              "      <th>airconditioning</th>\n",
              "      <th>parking</th>\n",
              "      <th>prefarea</th>\n",
              "      <th>furnishingstatus</th>\n",
              "    </tr>\n",
              "  </thead>\n",
              "  <tbody>\n",
              "    <tr>\n",
              "      <th>0</th>\n",
              "      <td>13300000</td>\n",
              "      <td>7420</td>\n",
              "      <td>4</td>\n",
              "      <td>2</td>\n",
              "      <td>3</td>\n",
              "      <td>yes</td>\n",
              "      <td>no</td>\n",
              "      <td>no</td>\n",
              "      <td>no</td>\n",
              "      <td>yes</td>\n",
              "      <td>2</td>\n",
              "      <td>yes</td>\n",
              "      <td>furnished</td>\n",
              "    </tr>\n",
              "    <tr>\n",
              "      <th>1</th>\n",
              "      <td>12250000</td>\n",
              "      <td>8960</td>\n",
              "      <td>4</td>\n",
              "      <td>4</td>\n",
              "      <td>4</td>\n",
              "      <td>yes</td>\n",
              "      <td>no</td>\n",
              "      <td>no</td>\n",
              "      <td>no</td>\n",
              "      <td>yes</td>\n",
              "      <td>3</td>\n",
              "      <td>no</td>\n",
              "      <td>furnished</td>\n",
              "    </tr>\n",
              "    <tr>\n",
              "      <th>2</th>\n",
              "      <td>12250000</td>\n",
              "      <td>9960</td>\n",
              "      <td>3</td>\n",
              "      <td>2</td>\n",
              "      <td>2</td>\n",
              "      <td>yes</td>\n",
              "      <td>no</td>\n",
              "      <td>yes</td>\n",
              "      <td>no</td>\n",
              "      <td>no</td>\n",
              "      <td>2</td>\n",
              "      <td>yes</td>\n",
              "      <td>semi-furnished</td>\n",
              "    </tr>\n",
              "    <tr>\n",
              "      <th>3</th>\n",
              "      <td>12215000</td>\n",
              "      <td>7500</td>\n",
              "      <td>4</td>\n",
              "      <td>2</td>\n",
              "      <td>2</td>\n",
              "      <td>yes</td>\n",
              "      <td>no</td>\n",
              "      <td>yes</td>\n",
              "      <td>no</td>\n",
              "      <td>yes</td>\n",
              "      <td>3</td>\n",
              "      <td>yes</td>\n",
              "      <td>furnished</td>\n",
              "    </tr>\n",
              "    <tr>\n",
              "      <th>4</th>\n",
              "      <td>11410000</td>\n",
              "      <td>7420</td>\n",
              "      <td>4</td>\n",
              "      <td>1</td>\n",
              "      <td>2</td>\n",
              "      <td>yes</td>\n",
              "      <td>yes</td>\n",
              "      <td>yes</td>\n",
              "      <td>no</td>\n",
              "      <td>yes</td>\n",
              "      <td>2</td>\n",
              "      <td>no</td>\n",
              "      <td>furnished</td>\n",
              "    </tr>\n",
              "  </tbody>\n",
              "</table>\n",
              "</div>"
            ],
            "text/plain": [
              "      price  area  bedrooms  ...  parking  prefarea furnishingstatus\n",
              "0  13300000  7420         4  ...        2       yes        furnished\n",
              "1  12250000  8960         4  ...        3        no        furnished\n",
              "2  12250000  9960         3  ...        2       yes   semi-furnished\n",
              "3  12215000  7500         4  ...        3       yes        furnished\n",
              "4  11410000  7420         4  ...        2        no        furnished\n",
              "\n",
              "[5 rows x 13 columns]"
            ]
          },
          "metadata": {},
          "execution_count": 1
        }
      ]
    },
    {
      "cell_type": "markdown",
      "metadata": {
        "id": "e8NazOwLSIfq"
      },
      "source": [
        "Veamos si hay valores nulos en el conjunto de datos usando .info(), y también, tenemos que verificar si hay valores atípicos usando .describe()."
      ]
    },
    {
      "cell_type": "code",
      "metadata": {
        "colab": {
          "base_uri": "https://localhost:8080/"
        },
        "id": "vw4jAuepSJpD",
        "outputId": "33f7521e-f635-44ab-ff91-aba40f8a9d21"
      },
      "source": [
        "print(housing.info())\n",
        "print(\"*************\")\n",
        "print(housing.describe())"
      ],
      "execution_count": null,
      "outputs": [
        {
          "output_type": "stream",
          "name": "stdout",
          "text": [
            "<class 'pandas.core.frame.DataFrame'>\n",
            "RangeIndex: 545 entries, 0 to 544\n",
            "Data columns (total 13 columns):\n",
            " #   Column            Non-Null Count  Dtype \n",
            "---  ------            --------------  ----- \n",
            " 0   price             545 non-null    int64 \n",
            " 1   area              545 non-null    int64 \n",
            " 2   bedrooms          545 non-null    int64 \n",
            " 3   bathrooms         545 non-null    int64 \n",
            " 4   stories           545 non-null    int64 \n",
            " 5   mainroad          545 non-null    object\n",
            " 6   guestroom         545 non-null    object\n",
            " 7   basement          545 non-null    object\n",
            " 8   hotwaterheating   545 non-null    object\n",
            " 9   airconditioning   545 non-null    object\n",
            " 10  parking           545 non-null    int64 \n",
            " 11  prefarea          545 non-null    object\n",
            " 12  furnishingstatus  545 non-null    object\n",
            "dtypes: int64(6), object(7)\n",
            "memory usage: 55.5+ KB\n",
            "None\n",
            "*************\n",
            "              price          area  ...     stories     parking\n",
            "count  5.450000e+02    545.000000  ...  545.000000  545.000000\n",
            "mean   4.766729e+06   5150.541284  ...    1.805505    0.693578\n",
            "std    1.870440e+06   2170.141023  ...    0.867492    0.861586\n",
            "min    1.750000e+06   1650.000000  ...    1.000000    0.000000\n",
            "25%    3.430000e+06   3600.000000  ...    1.000000    0.000000\n",
            "50%    4.340000e+06   4600.000000  ...    2.000000    0.000000\n",
            "75%    5.740000e+06   6360.000000  ...    2.000000    1.000000\n",
            "max    1.330000e+07  16200.000000  ...    4.000000    3.000000\n",
            "\n",
            "[8 rows x 6 columns]\n"
          ]
        }
      ]
    },
    {
      "cell_type": "markdown",
      "metadata": {
        "id": "-O_0V4GPSYA3"
      },
      "source": [
        " no hay valores nulos en los datos y tampoco hay valores atípicos en los datos.\n",
        "\n",
        "### Preparación de datos\n",
        "Si observamos el conjunto de datos, hay valores numéricos y columnas con valores como 'Sí' o 'No' Pero para ajustar una línea de regresión, necesitamos valores numéricos, por lo que convertiremos 'Sí' y 'No' como 1 y 0."
      ]
    },
    {
      "cell_type": "code",
      "metadata": {
        "colab": {
          "base_uri": "https://localhost:8080/"
        },
        "id": "o40aU0xtSa_-",
        "outputId": "ea7ed477-7e02-4f40-aaa0-3a4c9f64522a"
      },
      "source": [
        "varlist =  ['mainroad', 'guestroom', 'basement', 'hotwaterheating', 'airconditioning', 'prefarea']\n",
        "\n",
        "def binary_map(x):\n",
        "    return x.map({'yes': 1, \"no\": 0})\n",
        "\n",
        "\n",
        "housing[varlist] = housing[varlist].apply(binary_map)\n",
        "\n",
        "\n",
        "print(housing)"
      ],
      "execution_count": null,
      "outputs": [
        {
          "output_type": "stream",
          "name": "stdout",
          "text": [
            "        price  area  bedrooms  ...  parking  prefarea  furnishingstatus\n",
            "0    13300000  7420         4  ...        2         1         furnished\n",
            "1    12250000  8960         4  ...        3         0         furnished\n",
            "2    12250000  9960         3  ...        2         1    semi-furnished\n",
            "3    12215000  7500         4  ...        3         1         furnished\n",
            "4    11410000  7420         4  ...        2         0         furnished\n",
            "..        ...   ...       ...  ...      ...       ...               ...\n",
            "540   1820000  3000         2  ...        2         0       unfurnished\n",
            "541   1767150  2400         3  ...        0         0    semi-furnished\n",
            "542   1750000  3620         2  ...        0         0       unfurnished\n",
            "543   1750000  2910         3  ...        0         0         furnished\n",
            "544   1750000  3850         3  ...        0         0       unfurnished\n",
            "\n",
            "[545 rows x 13 columns]\n"
          ]
        }
      ]
    },
    {
      "cell_type": "markdown",
      "metadata": {
        "id": "bRx6CAJMSoK7"
      },
      "source": [
        "La furnishingstatus columna tiene tres niveles furnished, semi_furnishedy unfurnished.\n",
        "\n",
        "Necesitamos convertir esta columna en numérica también. Para hacer eso, usaremos dummy variables.\n",
        "\n",
        "Cuando tienes una variable categórica con n-levels, la idea de crear una variable ficticia es construir ‘n-1’ variables, indicando los niveles.\n",
        "\n",
        "Podemos crear una variable ficticia usando el get_dummi es método en pandas."
      ]
    },
    {
      "cell_type": "code",
      "metadata": {
        "colab": {
          "base_uri": "https://localhost:8080/"
        },
        "id": "5hLxe-TGSzUN",
        "outputId": "ae5d70da-b98a-4e2e-d582-e2dd9cee7fe4"
      },
      "source": [
        "status = pd.get_dummies(housing['furnishingstatus'])\n",
        "\n",
        "\n",
        "print(status)"
      ],
      "execution_count": null,
      "outputs": [
        {
          "output_type": "stream",
          "name": "stdout",
          "text": [
            "     furnished  semi-furnished  unfurnished\n",
            "0            1               0            0\n",
            "1            1               0            0\n",
            "2            0               1            0\n",
            "3            1               0            0\n",
            "4            1               0            0\n",
            "..         ...             ...          ...\n",
            "540          0               0            1\n",
            "541          0               1            0\n",
            "542          0               0            1\n",
            "543          1               0            0\n",
            "544          0               0            1\n",
            "\n",
            "[545 rows x 3 columns]\n"
          ]
        }
      ]
    },
    {
      "cell_type": "markdown",
      "metadata": {
        "id": "QAM5qpgDS7Lx"
      },
      "source": [
        "Ahora, no necesitamos tres columnas. Podemos eliminar la furnished, ya que se puede identificar solo con los valores de las dos últimas columnas donde:\n",
        "\n",
        "* 00 corresponderá a furnished\n",
        "* 01 corresponderá a unfurnished\n",
        "* 10 corresponderá a semi-furnished"
      ]
    },
    {
      "cell_type": "code",
      "metadata": {
        "colab": {
          "base_uri": "https://localhost:8080/"
        },
        "id": "MIXCmt6bTD_d",
        "outputId": "986dcf49-1764-42a7-fdc7-fdfc6c164883"
      },
      "source": [
        "status = pd.get_dummies(housing['furnishingstatus'], drop_first = True)\n",
        "\n",
        "\n",
        "housing = pd.concat([housing, status], axis = 1)\n",
        "\n",
        "housing.drop(['furnishingstatus'], axis = 1, inplace = True)\n",
        "\n",
        "print(housing)"
      ],
      "execution_count": null,
      "outputs": [
        {
          "output_type": "stream",
          "name": "stdout",
          "text": [
            "        price  area  bedrooms  ...  prefarea  semi-furnished  unfurnished\n",
            "0    13300000  7420         4  ...         1               0            0\n",
            "1    12250000  8960         4  ...         0               0            0\n",
            "2    12250000  9960         3  ...         1               1            0\n",
            "3    12215000  7500         4  ...         1               0            0\n",
            "4    11410000  7420         4  ...         0               0            0\n",
            "..        ...   ...       ...  ...       ...             ...          ...\n",
            "540   1820000  3000         2  ...         0               0            1\n",
            "541   1767150  2400         3  ...         0               1            0\n",
            "542   1750000  3620         2  ...         0               0            1\n",
            "543   1750000  2910         3  ...         0               0            0\n",
            "544   1750000  3850         3  ...         0               0            1\n",
            "\n",
            "[545 rows x 14 columns]\n"
          ]
        }
      ]
    },
    {
      "cell_type": "markdown",
      "metadata": {
        "id": "K5gIeg-_TNDo"
      },
      "source": [
        "Ahora construyamos el modelo. Como hemos visto en el artículo del modelo de regresión lineal simple , el primer paso es dividir el conjunto de datos en datos de prueba y de tren.\n",
        "\n",
        "Dividir los datos en dos conjuntos diferentes\n",
        "Dividiremos los datos en dos conjuntos de datos en una proporción de 7: 3."
      ]
    },
    {
      "cell_type": "code",
      "metadata": {
        "id": "hogcIXB6TOK4"
      },
      "source": [
        "from sklearn.model_selection import train_test_split\n",
        "\n",
        "\n",
        "np.random.seed(0)\n",
        "df_train, df_test = train_test_split(housing, train_size = 0.7, test_size = 0.3, random_state = 100)"
      ],
      "execution_count": null,
      "outputs": []
    },
    {
      "cell_type": "markdown",
      "metadata": {
        "id": "4th5AsvMTUbF"
      },
      "source": [
        "### Cambio de escala de las funciones\n",
        "Podemos ver que todas las columnas tienen valores enteros más pequeños en el conjunto de datos, excepto la area columna. Por tanto, es importante volver a escalar las variables para que todas tengan una escala comparable. Si no tenemos escalas relativas, algunos de los coeficientes del modelo de regresión serán de unidades diferentes en comparación con los otros coeficientes.\n",
        "\n",
        "Para hacer eso, usamos el MinMaxmétodo de escala."
      ]
    },
    {
      "cell_type": "code",
      "metadata": {
        "colab": {
          "base_uri": "https://localhost:8080/"
        },
        "id": "DWjvAc4TTa-g",
        "outputId": "c4a725f3-0791-4640-fc3e-70d9ca63f926"
      },
      "source": [
        "from sklearn.preprocessing import MinMaxScaler\n",
        "scaler = MinMaxScaler()\n",
        "\n",
        "# Applying scaler() to all the columns except the 'yes-no' and 'dummy' variables\n",
        "num_vars = ['area', 'bedrooms', 'bathrooms', 'stories', 'parking','price']\n",
        "df_train[num_vars] = scaler.fit_transform(df_train[num_vars])\n",
        "\n",
        "print(df_train)"
      ],
      "execution_count": null,
      "outputs": [
        {
          "output_type": "stream",
          "name": "stdout",
          "text": [
            "        price      area  bedrooms  ...  prefarea  semi-furnished  unfurnished\n",
            "359  0.169697  0.155227       0.4  ...         0               0            1\n",
            "19   0.615152  0.403379       0.4  ...         1               1            0\n",
            "159  0.321212  0.115628       0.4  ...         0               0            0\n",
            "35   0.548133  0.454417       0.4  ...         0               0            0\n",
            "28   0.575758  0.538015       0.8  ...         0               0            1\n",
            "..        ...       ...       ...  ...       ...             ...          ...\n",
            "526  0.048485  0.118268       0.2  ...         0               0            1\n",
            "53   0.484848  0.291623       0.4  ...         0               1            0\n",
            "350  0.175758  0.139388       0.2  ...         0               1            0\n",
            "79   0.424242  0.366420       0.4  ...         0               0            0\n",
            "520  0.060606  0.516015       0.2  ...         0               0            1\n",
            "\n",
            "[381 rows x 14 columns]\n"
          ]
        },
        {
          "output_type": "stream",
          "name": "stderr",
          "text": [
            "/usr/local/lib/python3.7/dist-packages/ipykernel_launcher.py:6: SettingWithCopyWarning: \n",
            "A value is trying to be set on a copy of a slice from a DataFrame.\n",
            "Try using .loc[row_indexer,col_indexer] = value instead\n",
            "\n",
            "See the caveats in the documentation: https://pandas.pydata.org/pandas-docs/stable/user_guide/indexing.html#returning-a-view-versus-a-copy\n",
            "  \n",
            "/usr/local/lib/python3.7/dist-packages/pandas/core/indexing.py:1734: SettingWithCopyWarning: \n",
            "A value is trying to be set on a copy of a slice from a DataFrame.\n",
            "Try using .loc[row_indexer,col_indexer] = value instead\n",
            "\n",
            "See the caveats in the documentation: https://pandas.pydata.org/pandas-docs/stable/user_guide/indexing.html#returning-a-view-versus-a-copy\n",
            "  isetter(loc, value[:, i].tolist())\n"
          ]
        }
      ]
    },
    {
      "cell_type": "markdown",
      "metadata": {
        "id": "iuid9D5_TgiX"
      },
      "source": [
        "## Construyendo un modelo lineal\n",
        "Antes de construir el modelo, necesitamos dividir los datos en conjuntos X e Y."
      ]
    },
    {
      "cell_type": "code",
      "metadata": {
        "id": "1MY2LCDCTik1"
      },
      "source": [
        "y_train = df_train.pop('price')\n",
        "X_train = df_train"
      ],
      "execution_count": null,
      "outputs": []
    },
    {
      "cell_type": "markdown",
      "metadata": {
        "id": "7iMJlOJ1TnQg"
      },
      "source": [
        "Primero, agregaremos las variables, excepto la variable de destino, al modelo.\n",
        "\n",
        "###Agregar todas las variables al modelo"
      ]
    },
    {
      "cell_type": "code",
      "metadata": {
        "colab": {
          "base_uri": "https://localhost:8080/",
          "height": 750
        },
        "id": "gCsZMU8BTrGY",
        "outputId": "87742b6d-6dc5-4d71-aa9c-f8501134e0bc"
      },
      "source": [
        "import statsmodels.api as sm\n",
        "X_train_lm = sm.add_constant(X_train)\n",
        "\n",
        "lr_1 = sm.OLS(y_train, X_train_lm).fit()\n",
        "\n",
        "lr_1.summary()"
      ],
      "execution_count": null,
      "outputs": [
        {
          "output_type": "stream",
          "name": "stderr",
          "text": [
            "/usr/local/lib/python3.7/dist-packages/statsmodels/tools/_testing.py:19: FutureWarning: pandas.util.testing is deprecated. Use the functions in the public API at pandas.testing instead.\n",
            "  import pandas.util.testing as tm\n"
          ]
        },
        {
          "output_type": "execute_result",
          "data": {
            "text/html": [
              "<table class=\"simpletable\">\n",
              "<caption>OLS Regression Results</caption>\n",
              "<tr>\n",
              "  <th>Dep. Variable:</th>          <td>price</td>      <th>  R-squared:         </th> <td>   0.681</td>\n",
              "</tr>\n",
              "<tr>\n",
              "  <th>Model:</th>                   <td>OLS</td>       <th>  Adj. R-squared:    </th> <td>   0.670</td>\n",
              "</tr>\n",
              "<tr>\n",
              "  <th>Method:</th>             <td>Least Squares</td>  <th>  F-statistic:       </th> <td>   60.40</td>\n",
              "</tr>\n",
              "<tr>\n",
              "  <th>Date:</th>             <td>Wed, 20 Oct 2021</td> <th>  Prob (F-statistic):</th> <td>8.83e-83</td>\n",
              "</tr>\n",
              "<tr>\n",
              "  <th>Time:</th>                 <td>18:13:33</td>     <th>  Log-Likelihood:    </th> <td>  381.79</td>\n",
              "</tr>\n",
              "<tr>\n",
              "  <th>No. Observations:</th>      <td>   381</td>      <th>  AIC:               </th> <td>  -735.6</td>\n",
              "</tr>\n",
              "<tr>\n",
              "  <th>Df Residuals:</th>          <td>   367</td>      <th>  BIC:               </th> <td>  -680.4</td>\n",
              "</tr>\n",
              "<tr>\n",
              "  <th>Df Model:</th>              <td>    13</td>      <th>                     </th>     <td> </td>   \n",
              "</tr>\n",
              "<tr>\n",
              "  <th>Covariance Type:</th>      <td>nonrobust</td>    <th>                     </th>     <td> </td>   \n",
              "</tr>\n",
              "</table>\n",
              "<table class=\"simpletable\">\n",
              "<tr>\n",
              "         <td></td>            <th>coef</th>     <th>std err</th>      <th>t</th>      <th>P>|t|</th>  <th>[0.025</th>    <th>0.975]</th>  \n",
              "</tr>\n",
              "<tr>\n",
              "  <th>const</th>           <td>    0.0200</td> <td>    0.021</td> <td>    0.955</td> <td> 0.340</td> <td>   -0.021</td> <td>    0.061</td>\n",
              "</tr>\n",
              "<tr>\n",
              "  <th>area</th>            <td>    0.2347</td> <td>    0.030</td> <td>    7.795</td> <td> 0.000</td> <td>    0.175</td> <td>    0.294</td>\n",
              "</tr>\n",
              "<tr>\n",
              "  <th>bedrooms</th>        <td>    0.0467</td> <td>    0.037</td> <td>    1.267</td> <td> 0.206</td> <td>   -0.026</td> <td>    0.119</td>\n",
              "</tr>\n",
              "<tr>\n",
              "  <th>bathrooms</th>       <td>    0.1908</td> <td>    0.022</td> <td>    8.679</td> <td> 0.000</td> <td>    0.148</td> <td>    0.234</td>\n",
              "</tr>\n",
              "<tr>\n",
              "  <th>stories</th>         <td>    0.1085</td> <td>    0.019</td> <td>    5.661</td> <td> 0.000</td> <td>    0.071</td> <td>    0.146</td>\n",
              "</tr>\n",
              "<tr>\n",
              "  <th>mainroad</th>        <td>    0.0504</td> <td>    0.014</td> <td>    3.520</td> <td> 0.000</td> <td>    0.022</td> <td>    0.079</td>\n",
              "</tr>\n",
              "<tr>\n",
              "  <th>guestroom</th>       <td>    0.0304</td> <td>    0.014</td> <td>    2.233</td> <td> 0.026</td> <td>    0.004</td> <td>    0.057</td>\n",
              "</tr>\n",
              "<tr>\n",
              "  <th>basement</th>        <td>    0.0216</td> <td>    0.011</td> <td>    1.943</td> <td> 0.053</td> <td>   -0.000</td> <td>    0.043</td>\n",
              "</tr>\n",
              "<tr>\n",
              "  <th>hotwaterheating</th> <td>    0.0849</td> <td>    0.022</td> <td>    3.934</td> <td> 0.000</td> <td>    0.042</td> <td>    0.127</td>\n",
              "</tr>\n",
              "<tr>\n",
              "  <th>airconditioning</th> <td>    0.0669</td> <td>    0.011</td> <td>    5.899</td> <td> 0.000</td> <td>    0.045</td> <td>    0.089</td>\n",
              "</tr>\n",
              "<tr>\n",
              "  <th>parking</th>         <td>    0.0607</td> <td>    0.018</td> <td>    3.365</td> <td> 0.001</td> <td>    0.025</td> <td>    0.096</td>\n",
              "</tr>\n",
              "<tr>\n",
              "  <th>prefarea</th>        <td>    0.0594</td> <td>    0.012</td> <td>    5.040</td> <td> 0.000</td> <td>    0.036</td> <td>    0.083</td>\n",
              "</tr>\n",
              "<tr>\n",
              "  <th>semi-furnished</th>  <td>    0.0009</td> <td>    0.012</td> <td>    0.078</td> <td> 0.938</td> <td>   -0.022</td> <td>    0.024</td>\n",
              "</tr>\n",
              "<tr>\n",
              "  <th>unfurnished</th>     <td>   -0.0310</td> <td>    0.013</td> <td>   -2.440</td> <td> 0.015</td> <td>   -0.056</td> <td>   -0.006</td>\n",
              "</tr>\n",
              "</table>\n",
              "<table class=\"simpletable\">\n",
              "<tr>\n",
              "  <th>Omnibus:</th>       <td>93.687</td> <th>  Durbin-Watson:     </th> <td>   2.093</td>\n",
              "</tr>\n",
              "<tr>\n",
              "  <th>Prob(Omnibus):</th> <td> 0.000</td> <th>  Jarque-Bera (JB):  </th> <td> 304.917</td>\n",
              "</tr>\n",
              "<tr>\n",
              "  <th>Skew:</th>          <td> 1.091</td> <th>  Prob(JB):          </th> <td>6.14e-67</td>\n",
              "</tr>\n",
              "<tr>\n",
              "  <th>Kurtosis:</th>      <td> 6.801</td> <th>  Cond. No.          </th> <td>    14.6</td>\n",
              "</tr>\n",
              "</table><br/><br/>Warnings:<br/>[1] Standard Errors assume that the covariance matrix of the errors is correctly specified."
            ],
            "text/plain": [
              "<class 'statsmodels.iolib.summary.Summary'>\n",
              "\"\"\"\n",
              "                            OLS Regression Results                            \n",
              "==============================================================================\n",
              "Dep. Variable:                  price   R-squared:                       0.681\n",
              "Model:                            OLS   Adj. R-squared:                  0.670\n",
              "Method:                 Least Squares   F-statistic:                     60.40\n",
              "Date:                Wed, 20 Oct 2021   Prob (F-statistic):           8.83e-83\n",
              "Time:                        18:13:33   Log-Likelihood:                 381.79\n",
              "No. Observations:                 381   AIC:                            -735.6\n",
              "Df Residuals:                     367   BIC:                            -680.4\n",
              "Df Model:                          13                                         \n",
              "Covariance Type:            nonrobust                                         \n",
              "===================================================================================\n",
              "                      coef    std err          t      P>|t|      [0.025      0.975]\n",
              "-----------------------------------------------------------------------------------\n",
              "const               0.0200      0.021      0.955      0.340      -0.021       0.061\n",
              "area                0.2347      0.030      7.795      0.000       0.175       0.294\n",
              "bedrooms            0.0467      0.037      1.267      0.206      -0.026       0.119\n",
              "bathrooms           0.1908      0.022      8.679      0.000       0.148       0.234\n",
              "stories             0.1085      0.019      5.661      0.000       0.071       0.146\n",
              "mainroad            0.0504      0.014      3.520      0.000       0.022       0.079\n",
              "guestroom           0.0304      0.014      2.233      0.026       0.004       0.057\n",
              "basement            0.0216      0.011      1.943      0.053      -0.000       0.043\n",
              "hotwaterheating     0.0849      0.022      3.934      0.000       0.042       0.127\n",
              "airconditioning     0.0669      0.011      5.899      0.000       0.045       0.089\n",
              "parking             0.0607      0.018      3.365      0.001       0.025       0.096\n",
              "prefarea            0.0594      0.012      5.040      0.000       0.036       0.083\n",
              "semi-furnished      0.0009      0.012      0.078      0.938      -0.022       0.024\n",
              "unfurnished        -0.0310      0.013     -2.440      0.015      -0.056      -0.006\n",
              "==============================================================================\n",
              "Omnibus:                       93.687   Durbin-Watson:                   2.093\n",
              "Prob(Omnibus):                  0.000   Jarque-Bera (JB):              304.917\n",
              "Skew:                           1.091   Prob(JB):                     6.14e-67\n",
              "Kurtosis:                       6.801   Cond. No.                         14.6\n",
              "==============================================================================\n",
              "\n",
              "Warnings:\n",
              "[1] Standard Errors assume that the covariance matrix of the errors is correctly specified.\n",
              "\"\"\""
            ]
          },
          "metadata": {},
          "execution_count": 9
        }
      ]
    },
    {
      "cell_type": "markdown",
      "metadata": {
        "id": "At0628bWTyOp"
      },
      "source": [
        "Si miramos el p-values de algunas de las variables, los valores parecen ser bastante altos, lo que significa que no son significativos. Eso significa que podemos eliminar esas variables del modelo.\n",
        "\n",
        "Antes de descartar las variables, como se discutió anteriormente, tenemos que ver multicollinearityentre las variables. Lo hacemos calculando el valor de VIF .\n",
        "\n",
        "El factor de inflación de la varianza o VIF es un valor cuantitativo que indica cuánto están correlacionadas las variables características entre sí. Es un parámetro extremadamente importante para probar nuestro modelo lineal. La fórmula para VIFes:\n",
        "\n",
        "VIF = 1/(1-Ri²)\n",
        "\n",
        "En Python, podemos calcular los valores de VIF importando variance_inflation_factor desde statsmodels"
      ]
    },
    {
      "cell_type": "code",
      "metadata": {
        "colab": {
          "base_uri": "https://localhost:8080/"
        },
        "id": "2wDSzPGMT4zW",
        "outputId": "4d7ac018-2efa-4075-c80c-93fbee0d4b32"
      },
      "source": [
        "from statsmodels.stats.outliers_influence import variance_inflation_factor\n",
        "\n",
        "\n",
        "vif = pd.DataFrame()\n",
        "vif['Features'] = X_train.columns\n",
        "vif['VIF'] = [variance_inflation_factor(X_train.values, i) for i in range(X_train.shape[1])]\n",
        "vif['VIF'] = round(vif['VIF'], 2)\n",
        "vif = vif.sort_values(by = \"VIF\", ascending = False)\n",
        "print(vif)"
      ],
      "execution_count": null,
      "outputs": [
        {
          "output_type": "stream",
          "name": "stdout",
          "text": [
            "           Features   VIF\n",
            "1          bedrooms  7.33\n",
            "4          mainroad  6.02\n",
            "0              area  4.67\n",
            "3           stories  2.70\n",
            "11   semi-furnished  2.19\n",
            "9           parking  2.12\n",
            "6          basement  2.02\n",
            "12      unfurnished  1.82\n",
            "8   airconditioning  1.77\n",
            "2         bathrooms  1.67\n",
            "10         prefarea  1.51\n",
            "5         guestroom  1.47\n",
            "7   hotwaterheating  1.14\n"
          ]
        }
      ]
    },
    {
      "cell_type": "markdown",
      "metadata": {
        "id": "8W2byzx1T-p4"
      },
      "source": [
        "Consideramos que las variables generalmente tienen un valor <5. Si observamos la imagen de arriba con claridad, hay algunas variables que debemos eliminar.\n",
        "\n",
        "Al descartar las variables, la primera preferencia irá al p-value. Además, tenemos que eliminar una variable a la vez.\n",
        "\n",
        "Descartar la variable y actualizar el modelo Como podemos ver en el resumen y el VIF, algunas variables aún son insignificantes. Una de estas variables es semi-furnished, ya que tiene un valor p muy alto de 0.938. Sigamos adelante y eliminemos esta variable."
      ]
    },
    {
      "cell_type": "code",
      "metadata": {
        "colab": {
          "base_uri": "https://localhost:8080/"
        },
        "id": "dD9uPx3qUBJc",
        "outputId": "61d09af9-ccce-4120-c6d1-b3c089810ac9"
      },
      "source": [
        "X = X_train.drop('semi-furnished', 1,)\n",
        "\n",
        "X_train_lm = sm.add_constant(X)\n",
        "\n",
        "lr_2 = sm.OLS(y_train, X_train_lm).fit()\n",
        "\n",
        "\n",
        "print(lr_2.summary())"
      ],
      "execution_count": null,
      "outputs": [
        {
          "output_type": "stream",
          "name": "stdout",
          "text": [
            "                            OLS Regression Results                            \n",
            "==============================================================================\n",
            "Dep. Variable:                  price   R-squared:                       0.681\n",
            "Model:                            OLS   Adj. R-squared:                  0.671\n",
            "Method:                 Least Squares   F-statistic:                     65.61\n",
            "Date:                Wed, 20 Oct 2021   Prob (F-statistic):           1.07e-83\n",
            "Time:                        18:13:33   Log-Likelihood:                 381.79\n",
            "No. Observations:                 381   AIC:                            -737.6\n",
            "Df Residuals:                     368   BIC:                            -686.3\n",
            "Df Model:                          12                                         \n",
            "Covariance Type:            nonrobust                                         \n",
            "===================================================================================\n",
            "                      coef    std err          t      P>|t|      [0.025      0.975]\n",
            "-----------------------------------------------------------------------------------\n",
            "const               0.0207      0.019      1.098      0.273      -0.016       0.058\n",
            "area                0.2344      0.030      7.845      0.000       0.176       0.293\n",
            "bedrooms            0.0467      0.037      1.268      0.206      -0.026       0.119\n",
            "bathrooms           0.1909      0.022      8.697      0.000       0.148       0.234\n",
            "stories             0.1085      0.019      5.669      0.000       0.071       0.146\n",
            "mainroad            0.0504      0.014      3.524      0.000       0.022       0.079\n",
            "guestroom           0.0304      0.014      2.238      0.026       0.004       0.057\n",
            "basement            0.0216      0.011      1.946      0.052      -0.000       0.043\n",
            "hotwaterheating     0.0849      0.022      3.941      0.000       0.043       0.127\n",
            "airconditioning     0.0668      0.011      5.923      0.000       0.045       0.089\n",
            "parking             0.0608      0.018      3.372      0.001       0.025       0.096\n",
            "prefarea            0.0594      0.012      5.046      0.000       0.036       0.083\n",
            "unfurnished        -0.0316      0.010     -3.096      0.002      -0.052      -0.012\n",
            "==============================================================================\n",
            "Omnibus:                       93.538   Durbin-Watson:                   2.092\n",
            "Prob(Omnibus):                  0.000   Jarque-Bera (JB):              303.844\n",
            "Skew:                           1.090   Prob(JB):                     1.05e-66\n",
            "Kurtosis:                       6.794   Cond. No.                         14.1\n",
            "==============================================================================\n",
            "\n",
            "Warnings:\n",
            "[1] Standard Errors assume that the covariance matrix of the errors is correctly specified.\n"
          ]
        }
      ]
    },
    {
      "cell_type": "markdown",
      "metadata": {
        "id": "UoRrK73tUJak"
      },
      "source": [
        "Ahora, calculemos los valores de VIF para el nuevo modelo.\n",
        "\n"
      ]
    },
    {
      "cell_type": "code",
      "metadata": {
        "colab": {
          "base_uri": "https://localhost:8080/"
        },
        "id": "2UnmEITIUKMY",
        "outputId": "54301d58-174f-4d96-9ccc-9ae6dac32d9a"
      },
      "source": [
        "vif = pd.DataFrame()\n",
        "vif['Features'] = X.columns\n",
        "vif['VIF'] = [variance_inflation_factor(X.values, i) for i in range(X.shape[1])]\n",
        "vif['VIF'] = round(vif['VIF'], 2)\n",
        "vif = vif.sort_values(by = \"VIF\", ascending = False)\n",
        "print(vif)"
      ],
      "execution_count": null,
      "outputs": [
        {
          "output_type": "stream",
          "name": "stdout",
          "text": [
            "           Features   VIF\n",
            "1          bedrooms  6.59\n",
            "4          mainroad  5.68\n",
            "0              area  4.67\n",
            "3           stories  2.69\n",
            "9           parking  2.12\n",
            "6          basement  2.01\n",
            "8   airconditioning  1.77\n",
            "2         bathrooms  1.67\n",
            "10         prefarea  1.51\n",
            "5         guestroom  1.47\n",
            "11      unfurnished  1.40\n",
            "7   hotwaterheating  1.14\n"
          ]
        }
      ]
    },
    {
      "cell_type": "markdown",
      "metadata": {
        "id": "yA2eJ5ggUSnT"
      },
      "source": [
        "Ahora, la variable bedroomtiene un VIF alto (6.6)y un valor p (0.206). Por lo tanto, no es de mucha utilidad y debe eliminarse del modelo. Repetiremos el mismo proceso que antes."
      ]
    },
    {
      "cell_type": "code",
      "metadata": {
        "colab": {
          "base_uri": "https://localhost:8080/"
        },
        "id": "IbqSw0odUXn_",
        "outputId": "ea1c5286-54e5-4a16-fa88-bf9972ecdd0b"
      },
      "source": [
        "X = X.drop('bedrooms', 1)\n",
        "\n",
        "X_train_lm = sm.add_constant(X)\n",
        "lr_3 = sm.OLS(y_train, X_train_lm).fit()\n",
        "\n",
        "\n",
        "print(lr_3.summary())"
      ],
      "execution_count": null,
      "outputs": [
        {
          "output_type": "stream",
          "name": "stdout",
          "text": [
            "                            OLS Regression Results                            \n",
            "==============================================================================\n",
            "Dep. Variable:                  price   R-squared:                       0.680\n",
            "Model:                            OLS   Adj. R-squared:                  0.671\n",
            "Method:                 Least Squares   F-statistic:                     71.31\n",
            "Date:                Wed, 20 Oct 2021   Prob (F-statistic):           2.73e-84\n",
            "Time:                        18:13:33   Log-Likelihood:                 380.96\n",
            "No. Observations:                 381   AIC:                            -737.9\n",
            "Df Residuals:                     369   BIC:                            -690.6\n",
            "Df Model:                          11                                         \n",
            "Covariance Type:            nonrobust                                         \n",
            "===================================================================================\n",
            "                      coef    std err          t      P>|t|      [0.025      0.975]\n",
            "-----------------------------------------------------------------------------------\n",
            "const               0.0357      0.015      2.421      0.016       0.007       0.065\n",
            "area                0.2347      0.030      7.851      0.000       0.176       0.294\n",
            "bathrooms           0.1965      0.022      9.132      0.000       0.154       0.239\n",
            "stories             0.1178      0.018      6.654      0.000       0.083       0.153\n",
            "mainroad            0.0488      0.014      3.423      0.001       0.021       0.077\n",
            "guestroom           0.0301      0.014      2.211      0.028       0.003       0.057\n",
            "basement            0.0239      0.011      2.183      0.030       0.002       0.045\n",
            "hotwaterheating     0.0864      0.022      4.014      0.000       0.044       0.129\n",
            "airconditioning     0.0665      0.011      5.895      0.000       0.044       0.089\n",
            "parking             0.0629      0.018      3.501      0.001       0.028       0.098\n",
            "prefarea            0.0596      0.012      5.061      0.000       0.036       0.083\n",
            "unfurnished        -0.0323      0.010     -3.169      0.002      -0.052      -0.012\n",
            "==============================================================================\n",
            "Omnibus:                       97.661   Durbin-Watson:                   2.097\n",
            "Prob(Omnibus):                  0.000   Jarque-Bera (JB):              325.388\n",
            "Skew:                           1.130   Prob(JB):                     2.20e-71\n",
            "Kurtosis:                       6.923   Cond. No.                         10.6\n",
            "==============================================================================\n",
            "\n",
            "Warnings:\n",
            "[1] Standard Errors assume that the covariance matrix of the errors is correctly specified.\n"
          ]
        }
      ]
    },
    {
      "cell_type": "markdown",
      "metadata": {
        "id": "aDoG-2koUctm"
      },
      "source": [
        "El siguiente paso es calcular VIF,"
      ]
    },
    {
      "cell_type": "code",
      "metadata": {
        "colab": {
          "base_uri": "https://localhost:8080/"
        },
        "id": "oX_zaXo4UdNs",
        "outputId": "607df4fe-e690-4acb-f583-008e5fe004a6"
      },
      "source": [
        "vif = pd.DataFrame()\n",
        "vif['Features'] = X.columns\n",
        "vif['VIF'] = [variance_inflation_factor(X.values, i) for i in range(X.shape[1])]\n",
        "vif['VIF'] = round(vif['VIF'], 2)\n",
        "vif = vif.sort_values(by = \"VIF\", ascending = False)\n",
        "print(vif)"
      ],
      "execution_count": null,
      "outputs": [
        {
          "output_type": "stream",
          "name": "stdout",
          "text": [
            "           Features   VIF\n",
            "3          mainroad  4.79\n",
            "0              area  4.55\n",
            "2           stories  2.23\n",
            "8           parking  2.10\n",
            "5          basement  1.87\n",
            "7   airconditioning  1.76\n",
            "1         bathrooms  1.61\n",
            "9          prefarea  1.50\n",
            "4         guestroom  1.46\n",
            "10      unfurnished  1.33\n",
            "6   hotwaterheating  1.12\n"
          ]
        }
      ]
    },
    {
      "cell_type": "markdown",
      "metadata": {
        "id": "BnIaHyZdUje5"
      },
      "source": [
        "Repetiremos este proceso hasta que cada columna p-value is <0.005yVIF is <5\n",
        "\n",
        "Después de descartar todas las variables necesarias una por una, el modelo final será,"
      ]
    },
    {
      "cell_type": "code",
      "metadata": {
        "colab": {
          "base_uri": "https://localhost:8080/"
        },
        "id": "YGxWWTAgUkW5",
        "outputId": "b4677bc6-e6a0-48a1-9398-1c6b08e5d537"
      },
      "source": [
        "X = X.drop('basement', 1)\n",
        "X_train_lm = sm.add_constant(X)\n",
        "\n",
        "lr_4 = sm.OLS(y_train, X_train_lm).fit()\n",
        "print(lr_4.summary())"
      ],
      "execution_count": null,
      "outputs": [
        {
          "output_type": "stream",
          "name": "stdout",
          "text": [
            "                            OLS Regression Results                            \n",
            "==============================================================================\n",
            "Dep. Variable:                  price   R-squared:                       0.676\n",
            "Model:                            OLS   Adj. R-squared:                  0.667\n",
            "Method:                 Least Squares   F-statistic:                     77.18\n",
            "Date:                Wed, 20 Oct 2021   Prob (F-statistic):           3.13e-84\n",
            "Time:                        18:13:33   Log-Likelihood:                 378.51\n",
            "No. Observations:                 381   AIC:                            -735.0\n",
            "Df Residuals:                     370   BIC:                            -691.7\n",
            "Df Model:                          10                                         \n",
            "Covariance Type:            nonrobust                                         \n",
            "===================================================================================\n",
            "                      coef    std err          t      P>|t|      [0.025      0.975]\n",
            "-----------------------------------------------------------------------------------\n",
            "const               0.0428      0.014      2.958      0.003       0.014       0.071\n",
            "area                0.2335      0.030      7.772      0.000       0.174       0.293\n",
            "bathrooms           0.2019      0.021      9.397      0.000       0.160       0.244\n",
            "stories             0.1081      0.017      6.277      0.000       0.074       0.142\n",
            "mainroad            0.0497      0.014      3.468      0.001       0.022       0.078\n",
            "guestroom           0.0402      0.013      3.124      0.002       0.015       0.065\n",
            "hotwaterheating     0.0876      0.022      4.051      0.000       0.045       0.130\n",
            "airconditioning     0.0682      0.011      6.028      0.000       0.046       0.090\n",
            "parking             0.0629      0.018      3.482      0.001       0.027       0.098\n",
            "prefarea            0.0637      0.012      5.452      0.000       0.041       0.087\n",
            "unfurnished        -0.0337      0.010     -3.295      0.001      -0.054      -0.014\n",
            "==============================================================================\n",
            "Omnibus:                       97.054   Durbin-Watson:                   2.099\n",
            "Prob(Omnibus):                  0.000   Jarque-Bera (JB):              322.034\n",
            "Skew:                           1.124   Prob(JB):                     1.18e-70\n",
            "Kurtosis:                       6.902   Cond. No.                         10.3\n",
            "==============================================================================\n",
            "\n",
            "Warnings:\n",
            "[1] Standard Errors assume that the covariance matrix of the errors is correctly specified.\n"
          ]
        }
      ]
    },
    {
      "cell_type": "markdown",
      "metadata": {
        "id": "5eYwslOaUp3s"
      },
      "source": [
        "Los VIF para el modelo final son,"
      ]
    },
    {
      "cell_type": "code",
      "metadata": {
        "colab": {
          "base_uri": "https://localhost:8080/"
        },
        "id": "rziq1vO9Uqo0",
        "outputId": "0bac526c-e9d1-40cc-bf72-a2f57df52d99"
      },
      "source": [
        "vif = pd.DataFrame()\n",
        "vif['Features'] = X.columns\n",
        "vif['VIF'] = [variance_inflation_factor(X.values, i) for i in range(X.shape[1])]\n",
        "vif['VIF'] = round(vif['VIF'], 2)\n",
        "vif = vif.sort_values(by = \"VIF\", ascending = False)\n",
        "print(vif)"
      ],
      "execution_count": null,
      "outputs": [
        {
          "output_type": "stream",
          "name": "stdout",
          "text": [
            "          Features   VIF\n",
            "3         mainroad  4.55\n",
            "0             area  4.54\n",
            "2          stories  2.12\n",
            "7          parking  2.10\n",
            "6  airconditioning  1.75\n",
            "1        bathrooms  1.58\n",
            "8         prefarea  1.47\n",
            "9      unfurnished  1.33\n",
            "4        guestroom  1.30\n",
            "5  hotwaterheating  1.12\n"
          ]
        }
      ]
    },
    {
      "cell_type": "markdown",
      "metadata": {
        "id": "Vl6r3cQlUw8m"
      },
      "source": [
        "Como podemos ver, p-value y VIF están en el rango aceptable. Es hora de que sigamos adelante y hagamos predicciones utilizando el modelo final. Así es como seleccionamos el Feature variables, que discutimos anteriormente.\n",
        "\n",
        "Ahora, antes de hacer predicciones, tenemos que ver si error termsestán distribuidas normalmente o no. Lo haremos usando Residual Analysis.\n",
        "\n",
        "Error-terms = y_actual - y_predicted\n",
        "\n",
        "La diferencia entre el valor de y real y el valor de y predicho utilizando el modelo en ese valor de x en particular es el término de error.\n",
        "\n",
        "##Análisis residual de los datos del tren\n",
        "Tenemos que comprobar si los términos de error están distribuidos normalmente (que es uno de los principales supuestos de la regresión lineal); tracemos el histograma de los términos de error."
      ]
    },
    {
      "cell_type": "code",
      "metadata": {
        "colab": {
          "base_uri": "https://localhost:8080/",
          "height": 365
        },
        "id": "mAImkizKUx2I",
        "outputId": "876abc20-c660-4e11-ad7e-d212a30a900f"
      },
      "source": [
        "import matplotlib.pyplot as plt\n",
        "import seaborn as sns\n",
        "y_train_price = lr_4.predict(X_train_lm)\n",
        "\n",
        "fig = plt.figure()\n",
        "sns.distplot((y_train - y_train_price), bins = 20)\n",
        "fig.suptitle('Error', fontsize = 20)        \n"
      ],
      "execution_count": null,
      "outputs": [
        {
          "output_type": "stream",
          "name": "stderr",
          "text": [
            "/usr/local/lib/python3.7/dist-packages/seaborn/distributions.py:2619: FutureWarning: `distplot` is a deprecated function and will be removed in a future version. Please adapt your code to use either `displot` (a figure-level function with similar flexibility) or `histplot` (an axes-level function for histograms).\n",
            "  warnings.warn(msg, FutureWarning)\n"
          ]
        },
        {
          "output_type": "execute_result",
          "data": {
            "text/plain": [
              "Text(0.5, 0.98, 'Error')"
            ]
          },
          "metadata": {},
          "execution_count": 17
        },
        {
          "output_type": "display_data",
          "data": {
            "image/png": "[encoded data removed]",
            "text/plain": [
              "<Figure size 432x288 with 1 Axes>"
            ]
          },
          "metadata": {
            "needs_background": "light"
          }
        }
      ]
    },
    {
      "cell_type": "markdown",
      "metadata": {
        "id": "BlbTezXtVSbP"
      },
      "source": [
        "Como podemos ver, los términos de error se parecen mucho a una distribución normal. Entonces podemos avanzar y hacer predicciones utilizando el modelo en el conjunto de datos de prueba.\n",
        "\n",
        "Hacer predicciones usando el modelo final\n",
        "Hemos ajustado el modelo y comprobado la normalidad de los términos de error. Hagamos predicciones usando el modelo final.\n",
        "\n",
        "Similar al conjunto de datos de entrenamiento. Primero, tenemos que escalar los datos de prueba."
      ]
    },
    {
      "cell_type": "code",
      "metadata": {
        "colab": {
          "base_uri": "https://localhost:8080/"
        },
        "id": "m_Q_PQ4eVWh_",
        "outputId": "e0685fc1-fe45-4296-fa26-b9aa68fe6619"
      },
      "source": [
        "num_vars = ['area', 'bedrooms', 'bathrooms', 'stories', 'parking','price']\n",
        "df_test[num_vars] = scaler.transform(df_test[num_vars])\n",
        "\n",
        "print(df_test)"
      ],
      "execution_count": null,
      "outputs": [
        {
          "output_type": "stream",
          "name": "stdout",
          "text": [
            "        price      area  bedrooms  ...  prefarea  semi-furnished  unfurnished\n",
            "265  0.229697  0.091869       0.4  ...         1               1            0\n",
            "54   0.484848  0.366420       0.4  ...         0               1            0\n",
            "171  0.303030  0.742080       0.4  ...         1               1            0\n",
            "244  0.242424  0.306582       0.4  ...         1               1            0\n",
            "268  0.227879  0.274023       0.6  ...         0               1            0\n",
            "..        ...       ...       ...  ...       ...             ...          ...\n",
            "413  0.145455  0.010032       0.4  ...         1               0            1\n",
            "191  0.284848  0.780007       0.4  ...         0               1            0\n",
            "310  0.206061  0.365100       0.4  ...         0               1            0\n",
            "46   0.500000  0.366420       0.4  ...         0               0            0\n",
            "50   0.490909  0.493136       0.4  ...         1               0            1\n",
            "\n",
            "[164 rows x 14 columns]\n"
          ]
        },
        {
          "output_type": "stream",
          "name": "stderr",
          "text": [
            "/usr/local/lib/python3.7/dist-packages/ipykernel_launcher.py:2: SettingWithCopyWarning: \n",
            "A value is trying to be set on a copy of a slice from a DataFrame.\n",
            "Try using .loc[row_indexer,col_indexer] = value instead\n",
            "\n",
            "See the caveats in the documentation: https://pandas.pydata.org/pandas-docs/stable/user_guide/indexing.html#returning-a-view-versus-a-copy\n",
            "  \n",
            "/usr/local/lib/python3.7/dist-packages/pandas/core/indexing.py:1734: SettingWithCopyWarning: \n",
            "A value is trying to be set on a copy of a slice from a DataFrame.\n",
            "Try using .loc[row_indexer,col_indexer] = value instead\n",
            "\n",
            "See the caveats in the documentation: https://pandas.pydata.org/pandas-docs/stable/user_guide/indexing.html#returning-a-view-versus-a-copy\n",
            "  isetter(loc, value[:, i].tolist())\n"
          ]
        }
      ]
    },
    {
      "cell_type": "markdown",
      "metadata": {
        "id": "TXCCcjTdVbbr"
      },
      "source": [
        "Después de dividir los datos de prueba en X e Y, eliminaremos las variables innecesarias de los datos de prueba según nuestro modelo."
      ]
    },
    {
      "cell_type": "code",
      "metadata": {
        "id": "dMY-nOAPVcRc"
      },
      "source": [
        "y_test = df_test.pop('price')\n",
        "X_test = df_test\n",
        "\n",
        "X_test_m4 = sm.add_constant(X_test)\n",
        "\n",
        "X_test_m4 = X_test_m4.drop([\"bedrooms\", \"semi-furnished\", \"basement\"], axis = 1)\n",
        "\n",
        "y_pred_m4 = lr_4.predict(X_test_m4)"
      ],
      "execution_count": null,
      "outputs": []
    },
    {
      "cell_type": "markdown",
      "metadata": {
        "id": "Q5kzcBd9Vi5p"
      },
      "source": [
        "hora, tenemos que ver si el modelo final predicho se ajusta mejor o no. Para hacer eso, calcularemos el valor R² para el modelo de prueba esperado.\n",
        "\n",
        "Lo hacemos importando la r2_score biblioteca desde sklearn"
      ]
    },
    {
      "cell_type": "code",
      "metadata": {
        "colab": {
          "base_uri": "https://localhost:8080/"
        },
        "id": "VtKNST6sVnFi",
        "outputId": "86a18070-d32c-4dff-e94f-d9e5f3259bdc"
      },
      "source": [
        "from sklearn.metrics import r2_score\n",
        "r2_score(y_true = y_test, y_pred = y_pred_m4)"
      ],
      "execution_count": null,
      "outputs": [
        {
          "output_type": "execute_result",
          "data": {
            "text/plain": [
              "0.660134403021964"
            ]
          },
          "metadata": {},
          "execution_count": 20
        }
      ]
    },
    {
      "cell_type": "markdown",
      "metadata": {
        "id": "QbdKHHrZVtDI"
      },
      "source": [
        "El valor R² para los datos de prueba = 0,660134403021964,\n",
        "el valor R² para los datos del tren = 0,667; podemos ver el valor en el resumen final del modelo anterior.\n",
        "\n",
        "Dado que los valores R² tanto para el tren como para los datos de prueba son casi iguales, el modelo que construimos es el que mejor se ajusta."
      ]
    },
    {
      "cell_type": "markdown",
      "metadata": {
        "id": "TjM6y-cAV_Os"
      },
      "source": [
        "## Interpretación\n",
        "\n",
        "Construimos un modelo básico de regresión lineal múltiple en el aprendizaje automático de forma manual y utilizando un enfoque RFE automático. La mayoría de las veces, utilizamos regresión lineal múltiple en lugar de un modelo de regresión lineal simple porque la variable objetivo siempre depende de más de una variable.\n",
        "\n",
        "Por lo tanto, es crucial aprender cómo funciona la regresión lineal múltiple en el aprendizaje automático y, sin conocer la regresión lineal simple, es un desafío comprender el modelo de regresión lineal múltiple."
      ]
    },
    {
      "cell_type": "markdown",
      "metadata": {
        "id": "JkklTlPCWLti"
      },
      "source": [
        "## Fuente de este caso:\n",
        "[https://ichi.pro/es/modelo-de-regresion-lineal-multiple-con-python-aprendizaje-automatico-228751987250986](https://ichi.pro/es/modelo-de-regresion-lineal-multiple-con-python-aprendizaje-automatico-228751987250986)"
      ]
    }
  ]
}